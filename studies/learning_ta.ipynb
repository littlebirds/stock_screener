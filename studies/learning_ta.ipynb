{
 "cells": [
  {
   "cell_type": "code",
   "execution_count": 1,
   "id": "08c7cabf-e6f6-4b49-9192-96b749e39b82",
   "metadata": {},
   "outputs": [
    {
     "data": {
      "text/plain": [
       "'/home/gangzhi/play_ground/stock_screener/studies'"
      ]
     },
     "execution_count": 1,
     "metadata": {},
     "output_type": "execute_result"
    }
   ],
   "source": [
    "import datetime\n",
    "\n",
    "from datasets import SpyDailyDataset\n",
    "from models import Conv1DNet"
   ]
  },
  {
   "cell_type": "code",
   "execution_count": null,
   "id": "27d5cb37-8dc0-4127-99eb-854476879257",
   "metadata": {},
   "outputs": [],
   "source": [
    "def training_loop(n_epochs, optimizer, model, loss_fn, train_loader):\n",
    "    for epoch in range(1, n_epochs+1):\n",
    "        loss_train = 0.0\n",
    "        for batch, lables in train_loader:\n",
    "            outputs  = model(batch)\n",
    "            loss = loss_fn(outputs, labels)\n",
    "            optimizer.zero_grad()\n",
    "            loss.backward()\n",
    "            optimizer.step()\n",
    "            loss_train += loss.item()\n",
    "\n",
    "        if epochs ==1 or epoch % 10 == 0:\n",
    "            print('{} Epoch {}, training loss {}'.format(datetime.datatime.now(), epoch, loss_train/len(train_loader))"
   ]
  },
  {
   "cell_type": "code",
   "execution_count": null,
   "id": "b656f60d-8744-44e8-a748-ade47bf0951b",
   "metadata": {},
   "outputs": [],
   "source": []
  },
  {
   "cell_type": "code",
   "execution_count": null,
   "id": "a8aeadd6-6821-414a-a088-688ef558338e",
   "metadata": {},
   "outputs": [],
   "source": []
  }
 ],
 "metadata": {
  "kernelspec": {
   "display_name": "Python 3 (ipykernel)",
   "language": "python",
   "name": "python3"
  },
  "language_info": {
   "codemirror_mode": {
    "name": "ipython",
    "version": 3
   },
   "file_extension": ".py",
   "mimetype": "text/x-python",
   "name": "python",
   "nbconvert_exporter": "python",
   "pygments_lexer": "ipython3",
   "version": "3.12.3"
  }
 },
 "nbformat": 4,
 "nbformat_minor": 5
}
