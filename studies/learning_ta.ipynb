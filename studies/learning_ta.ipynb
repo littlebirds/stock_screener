{
 "cells": [
  {
   "cell_type": "code",
   "execution_count": 1,
   "id": "08c7cabf-e6f6-4b49-9192-96b749e39b82",
   "metadata": {},
   "outputs": [
    {
     "name": "stdout",
     "output_type": "stream",
     "text": [
      "/home/gangzhi/play_ground/stock_screener\n"
     ]
    }
   ],
   "source": [
    "%cd ..\n",
    "\n",
    "import math\n",
    "import json\n",
    "import utils\n",
    "import os\n",
    "import torch\n",
    "import pandas as pd\n",
    "import yfinance as yf\n",
    "import numpy as np\n",
    "from itables import show\n",
    "from multiprocessing import Pool \n",
    "\n",
    "if not os.path.exists('sp500.json'):\n",
    "    sp500 = utils.spy_components()\n",
    "    with open('./sp500.json', 'w') as f:\n",
    "        json.dump(sp500, f, indent=2)\n",
    "else:\n",
    "    with open(\"./sp500.json\", 'r') as f:\n",
    "        sp500 = json.load(f)\n"
   ]
  },
  {
   "cell_type": "code",
   "execution_count": 19,
   "id": "27d5cb37-8dc0-4127-99eb-854476879257",
   "metadata": {},
   "outputs": [
    {
     "data": {
      "text/plain": [
       "Date\n",
       "2016-06-07    42.217999\n",
       "2016-06-09    42.083000\n",
       "2016-07-01    41.147999\n",
       "2016-07-28    40.647499\n",
       "2016-08-17    42.300999\n",
       "                ...    \n",
       "2025-03-24          NaN\n",
       "2025-03-25          NaN\n",
       "2025-03-26          NaN\n",
       "2025-03-27          NaN\n",
       "2025-03-28          NaN\n",
       "Name: Close, Length: 1618, dtype: float64"
      ]
     },
     "execution_count": 19,
     "metadata": {},
     "output_type": "execute_result"
    }
   ],
   "source": []
  },
  {
   "cell_type": "code",
   "execution_count": 3,
   "id": "d3e2f060-1573-4bd0-a09b-9ad6c6a14fdb",
   "metadata": {},
   "outputs": [
    {
     "name": "stdout",
     "output_type": "stream",
     "text": [
      "Re-download SP500? [yes/no] no\n"
     ]
    }
   ],
   "source": [
    "import os\n",
    "SAVE_DIR='./data'\n",
    "file = 'sp500_daily_prices.pkl'\n",
    "file_path = os.path.join(SAVE_DIR, file)\n",
    "\n",
    "download = True\n",
    "if os.path.exists(file_path): \n",
    "    answer = input(\"Re-download SP500? [yes/no]\")\n",
    "    download = True if answer[0].lower() == 'y' else False \n",
    "if download:\n",
    "    daily_df = yf.download(sp500).swaplevel(axis=1)\n",
    "    daily_df.to_pickle(file_path)\n",
    "else:\n",
    "    daily_df = pd.read_pickle(file_path)\n"
   ]
  },
  {
   "cell_type": "code",
   "execution_count": 4,
   "id": "50644ba1-c4d1-4dea-9982-025d542ed204",
   "metadata": {
    "editable": true,
    "scrolled": true,
    "slideshow": {
     "slide_type": ""
    },
    "tags": []
   },
   "outputs": [],
   "source": [
    "# Drop rows before the year 1990\n",
    "daily_df = daily_df[daily_df.index.year >= 1990]\n",
    "daily_df = daily_df[~(daily_df < 1).any(axis=1)]\n",
    "split_daily_df = [daily_df[ticker] for ticker in sp500]\n"
   ]
  },
  {
   "cell_type": "code",
   "execution_count": 27,
   "id": "e36bb036-3775-466a-b567-28a2def65a56",
   "metadata": {},
   "outputs": [],
   "source": [
    "def feature_augment(df):\n",
    "    # remove where volume is 0\n",
    "    prev_close = df.Close.shift(1)\n",
    "    prev_vol = df.Volume.shift(1)\n",
    "    ret = pd.DataFrame()\n",
    "    # ret['forward_roc20'] = df.Close / df.Close.shift(-20)\n",
    "    ret['forward_roc5'] = df.Close / df.Close.shift(-5)\n",
    "    \n",
    "    ret['high'] = df.High / prev_close\n",
    "    ret['low'] = df.Low / prev_close\n",
    "    ret['open'] = df.Open / prev_close\n",
    "    ret['close'] = df.Close / prev_close\n",
    "    ret['vol'] = df.Volume / prev_vol\n",
    "    # cross features\n",
    "    ret['vol_x_high'] = ret['vol'] * ret['high']\n",
    "    ret['vol_x_low'] =  ret['vol'] * ret['low']\n",
    "    ret['vol_x_open'] =  ret['vol'] * ret['open']\n",
    "    ret['vol_x_close'] =  ret['vol'] * ret['close']\n",
    "    ret.dropna(inplace=True)\n",
    "    ret = ret.map(math.log)\n",
    "    # Feature names: hloc, v, v crossed h,l.o,c\n",
    "    return ret\n"
   ]
  },
  {
   "cell_type": "code",
   "execution_count": 28,
   "id": "8ff6c28a-82dc-4a51-a168-98f9811abe18",
   "metadata": {},
   "outputs": [
    {
     "name": "stdout",
     "output_type": "stream",
     "text": [
      "CPU times: user 136 ms, sys: 290 ms, total: 426 ms\n",
      "Wall time: 1.31 s\n"
     ]
    }
   ],
   "source": [
    "%%time\n",
    "with Pool(4) as pool:\n",
    "    data = pool.map(feature_augment, split_daily_df)\n"
   ]
  },
  {
   "cell_type": "code",
   "execution_count": 29,
   "id": "8a93d73b-b8df-4c86-b7a3-2c5f88a54288",
   "metadata": {},
   "outputs": [
    {
     "name": "stdout",
     "output_type": "stream",
     "text": [
      "Index(['forward_roc5', 'high', 'low', 'open', 'close', 'vol', 'vol_x_high',\n",
      "       'vol_x_low', 'vol_x_open', 'vol_x_close'],\n",
      "      dtype='object')\n",
      "tensor([0.0536, 0.0204, 0.0219, 0.0164, 0.0244, 0.4009, 0.4023, 0.3994, 0.4009,\n",
      "        0.4007], dtype=torch.float64)\n",
      "tensor([-0.0030,  0.0130, -0.0122,  0.0006,  0.0006,  0.0006,  0.0136, -0.0115,\n",
      "         0.0013,  0.0013], dtype=torch.float64)\n"
     ]
    }
   ],
   "source": [
    "stacked = torch.vstack([torch.from_numpy(df.values) for df in data])\n",
    "stddev, mean = torch.std_mean(stacked, dim=0)\n",
    "print(data[0].columns)\n",
    "print(stddev)\n",
    "print(mean)"
   ]
  },
  {
   "cell_type": "code",
   "execution_count": 18,
   "id": "c47ec317-21ff-4772-b10e-b2c655ad4a9b",
   "metadata": {},
   "outputs": [
    {
     "name": "stdout",
     "output_type": "stream",
     "text": [
      "(tensor([0.1059, 0.0204, 0.0220, 0.0164, 0.0245, 0.4010, 0.4024, 0.3995, 0.4010,\n",
      "        0.4009], dtype=torch.float64), tensor([-0.0113,  0.0130, -0.0122,  0.0007,  0.0006,  0.0004,  0.0134, -0.0118,\n",
      "         0.0010,  0.0010], dtype=torch.float64))\n"
     ]
    }
   ],
   "source": [
    "tensors = [torch.from_numpy(d.values) for d in data]\n",
    "v = torch.vstack(tensors)\n",
    "print(torch.std_mean(v, dim=0))"
   ]
  },
  {
   "cell_type": "code",
   "execution_count": 17,
   "id": "71c588be-17c6-46cb-bdd3-fb5b51781380",
   "metadata": {},
   "outputs": [
    {
     "name": "stdout",
     "output_type": "stream",
     "text": [
      "tensor([[-0.4071,  0.0096, -0.0058,  ...,  0.1657,  0.1661,  0.1777],\n",
      "        [-0.4838, -0.0324, -0.0443,  ..., -0.0662, -0.0645, -0.0603],\n",
      "        [-0.4137,  0.0855,  0.0698,  ...,  0.4963,  0.4964,  0.5110],\n",
      "        ...,\n",
      "        [-0.0986,  0.0070, -0.0097,  ..., -0.1687, -0.1528, -0.1601],\n",
      "        [-0.1229,  0.0081, -0.0140,  ..., -0.1494, -0.1364, -0.1486],\n",
      "        [-0.1344,  0.0045, -0.0250,  ...,  0.4500,  0.4673,  0.4535]],\n",
      "       dtype=torch.float64)\n"
     ]
    }
   ],
   "source": [
    "\n",
    "\n"
   ]
  },
  {
   "cell_type": "code",
   "execution_count": null,
   "id": "a8aeadd6-6821-414a-a088-688ef558338e",
   "metadata": {},
   "outputs": [],
   "source": []
  }
 ],
 "metadata": {
  "kernelspec": {
   "display_name": "Python 3 (ipykernel)",
   "language": "python",
   "name": "python3"
  },
  "language_info": {
   "codemirror_mode": {
    "name": "ipython",
    "version": 3
   },
   "file_extension": ".py",
   "mimetype": "text/x-python",
   "name": "python",
   "nbconvert_exporter": "python",
   "pygments_lexer": "ipython3",
   "version": "3.12.3"
  }
 },
 "nbformat": 4,
 "nbformat_minor": 5
}
