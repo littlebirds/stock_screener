{
 "cells": [
  {
   "cell_type": "code",
   "execution_count": 3,
   "id": "08c7cabf-e6f6-4b49-9192-96b749e39b82",
   "metadata": {},
   "outputs": [
    {
     "name": "stdout",
     "output_type": "stream",
     "text": [
      "/home/gangzhi/play_ground/stock_screener\n"
     ]
    }
   ],
   "source": [
    "%cd ..\n",
    "\n",
    "import math\n",
    "import json\n",
    "import utils\n",
    "import os\n",
    "import pandas as pd\n",
    "import yfinance as yf\n",
    "from itables import show\n",
    "from multiprocessing import Pool \n",
    "\n",
    "if not os.path.exists('sp500.json'):\n",
    "    sp500 = utils.spy_components()\n",
    "    with open('./sp500.json', 'w') as f:\n",
    "        json.dump(sp500, f, indent=2)\n",
    "else:\n",
    "    with open(\"./sp500.json\", 'r') as f:\n",
    "        sp500 = json.load(f)\n"
   ]
  },
  {
   "cell_type": "code",
   "execution_count": 4,
   "id": "27d5cb37-8dc0-4127-99eb-854476879257",
   "metadata": {},
   "outputs": [
    {
     "data": {
      "text/plain": [
       "'/home/gangzhi/play_ground/stock_screener'"
      ]
     },
     "execution_count": 4,
     "metadata": {},
     "output_type": "execute_result"
    }
   ],
   "source": [
    "pwd"
   ]
  },
  {
   "cell_type": "code",
   "execution_count": 5,
   "id": "d3e2f060-1573-4bd0-a09b-9ad6c6a14fdb",
   "metadata": {},
   "outputs": [
    {
     "name": "stdin",
     "output_type": "stream",
     "text": [
      "Re-download SP500? [yes/no] no\n"
     ]
    }
   ],
   "source": [
    "import os\n",
    "SAVE_DIR='./data'\n",
    "file = 'sp500_daily_prices.pkl'\n",
    "file_path = os.path.join(SAVE_DIR, file)\n",
    "\n",
    "download = True\n",
    "if os.path.exists(file_path): \n",
    "    answer = input(\"Re-download SP500? [yes/no]\")\n",
    "    download = True if answer[0].lower() == 'y' else False \n",
    "if download:\n",
    "    daily_df = yf.download(sp500).swaplevel(axis=1)\n",
    "    daily_df.to_pickle(file_path)\n",
    "else:\n",
    "    daily_df = pd.read_pickle(file_path)\n"
   ]
  },
  {
   "cell_type": "code",
   "execution_count": null,
   "id": "50644ba1-c4d1-4dea-9982-025d542ed204",
   "metadata": {
    "editable": true,
    "scrolled": true,
    "slideshow": {
     "slide_type": ""
    },
    "tags": []
   },
   "outputs": [],
   "source": [
    "# Drop rows before the year 1990\n",
    "daily_df = daily_df[daily_df.index.year >= 1990]\n",
    "daily_df = daily_df[~(daily_df < 1).any(axis=1)]\n",
    "split_daily_df = [daily_df[ticker] for ticker in sp500]\n"
   ]
  },
  {
   "cell_type": "code",
   "execution_count": 8,
   "id": "e36bb036-3775-466a-b567-28a2def65a56",
   "metadata": {},
   "outputs": [],
   "source": [
    "def feature_augment(df):\n",
    "    # remove where volume is 0\n",
    "    prev_close = df.Close.shift(1)\n",
    "    prev_vol = df.Volume.shift(1)\n",
    "    ret = pd.DataFrame()\n",
    "    ret['forward_roc20'] = df.Close / df.Close.shift(-20)\n",
    "    \n",
    "    ret['high'] = df.High / prev_close\n",
    "    ret['low'] = df.Low / prev_close\n",
    "    ret['open'] = df.Open / prev_close\n",
    "    ret['close'] = df.Close / prev_close\n",
    "    ret['vol'] = df.Volume / prev_vol\n",
    "    # cross features\n",
    "    ret['vol_x_high'] = ret['vol'] * ret['high']\n",
    "    ret['vol_x_low'] =  ret['vol'] * ret['low']\n",
    "    ret['vol_x_open'] =  ret['vol'] * ret['open']\n",
    "    ret['vol_x_close'] =  ret['vol'] * ret['close']\n",
    "    ret.dropna(inplace=True)\n",
    "    ret = ret.map(math.log)\n",
    "    # Feature names: hloc, v, v crossed h,l.o,c\n",
    "    return ret\n"
   ]
  },
  {
   "cell_type": "code",
   "execution_count": 14,
   "id": "8ff6c28a-82dc-4a51-a168-98f9811abe18",
   "metadata": {},
   "outputs": [
    {
     "name": "stdout",
     "output_type": "stream",
     "text": [
      "CPU times: user 197 ms, sys: 262 ms, total: 459 ms\n",
      "Wall time: 1.38 s\n"
     ]
    }
   ],
   "source": [
    "%%time\n",
    "with Pool(4) as pool:\n",
    "    data = pool.map(feature_augment, split_daily_df)"
   ]
  },
  {
   "cell_type": "code",
   "execution_count": null,
   "id": "c47ec317-21ff-4772-b10e-b2c655ad4a9b",
   "metadata": {},
   "outputs": [],
   "source": []
  }
 ],
 "metadata": {
  "kernelspec": {
   "display_name": "Python 3 (ipykernel)",
   "language": "python",
   "name": "python3"
  },
  "language_info": {
   "codemirror_mode": {
    "name": "ipython",
    "version": 3
   },
   "file_extension": ".py",
   "mimetype": "text/x-python",
   "name": "python",
   "nbconvert_exporter": "python",
   "pygments_lexer": "ipython3",
   "version": "3.12.3"
  }
 },
 "nbformat": 4,
 "nbformat_minor": 5
}
